{
 "cells": [
  {
   "cell_type": "markdown",
   "metadata": {},
   "source": [
    "# Chat Bot Adventure: The First Steps Building With GenAI\n",
    "\n",
    "## Contents\n",
    "\n",
    "* [Who I Am](#who-i-am), *to do*\n",
    "* [What We Are Going To Do](#what-we-are-going-to-do), *to do*\n",
    "* [A Little Bit Of Context](#a-little-bit-of-context), *to do*\n",
    "  * Generative AI And LLMs, *to do*\n",
    "  * Some Services Available, *to do*\n",
    "  * Running Models Locally, *to do*\n",
    "  * Responsible AI, Privacy And Security, *to do*\n",
    "* [Tools For Trade](#tools-for-trade)\n",
    "  * Local Setup, *to be tested*\n",
    "  * Online Setup, *to be tested*\n",
    "  * Getting A Groq API Key, *to be tested*\n",
    "* [Let's Write Some Code](#lets-write-some-code)\n",
    "  * [Hotel Chat Bot Assistant](#hotel-chat-bot-assistant), *to be tested*\n",
    "* [References](#references), *to do*"
   ]
  },
  {
   "cell_type": "markdown",
   "metadata": {},
   "source": [
    "## [Who I Am](#contents)"
   ]
  },
  {
   "cell_type": "markdown",
   "metadata": {},
   "source": [
    "## [What We Are Going To Do](#contents)"
   ]
  },
  {
   "cell_type": "markdown",
   "metadata": {},
   "source": [
    "## [A Little Bit Of Context](#contents)"
   ]
  },
  {
   "cell_type": "markdown",
   "metadata": {},
   "source": [
    "## [Tools For Trade](#contents)\n",
    "\n",
    "### Local Setup\n",
    "\n",
    "Requirements:\n",
    "\n",
    "* Python >= 3.13\n",
    "* Pipenv >= 2024.0.1\n",
    "\n",
    "From a terminal, create a Python virtual environment with `pipenv`:\n",
    "\n",
    "`PIPENV_CUSTOM_VENV_NAME=\"Chat Bot\" pipenv shell`\n",
    "\n",
    "`pip install --upgrade pip`\n",
    "\n",
    "`pipenv install notebook`\n",
    "\n",
    "Then, run the notebook and point the kernel to the newly created environment:\n",
    "\n",
    "`jupyter notebook`\n",
    "\n",
    "### Online Setup\n",
    "\n",
    "* Go to the Try Jupyter page at [https://jupyter.org/try-jupyter/notebooks/?path=Untitled1.ipynb](https://jupyter.org/try-jupyter/notebooks/?path=Untitled1.ipynb)\n",
    "\n",
    "* Select Python (Pyodide) Kernel\n",
    "\n",
    "### Getting A Groq API Key\n",
    "\n",
    "* Go to the Groq Cloud console page at [https://console.groq.com/login](https://console.groq.com/login)\n",
    "\n",
    "* Create or access an existing account with e-mail, GitHub or Google account\n",
    "\n",
    "* After receive the accessing code by e-mail, go to [API Keys](https://console.groq.com/keys) page\n",
    "\n",
    "* Create a new API Key, giving a meaningful name\n",
    "\n",
    "* Copy the API Key value\n",
    "\n",
    "* Create a new file called `.env`, and add the API Key to the `API_KEY` variable: `API_KEY=\"MY_API_KEY\"`"
   ]
  },
  {
   "cell_type": "markdown",
   "metadata": {},
   "source": [
    "## [Let's Write Some Code](#contents)"
   ]
  },
  {
   "cell_type": "markdown",
   "metadata": {},
   "source": [
    "### Hotel Chat Bot Assistant\n",
    "\n",
    "Context:\n",
    "\n",
    "We are going to build a chat bot to assist the guests of a famous hotel.\n",
    "\n",
    "The chat bot will provide information about reservations, promotions, policies, facilities, amenities, attractions, events, as well as handle feedbacks and complaints.\n",
    "\n",
    "The source of all information will be provided by the hotel direction.\n",
    "\n",
    "Requirements:\n",
    "\n",
    "1. The chat bot must provide answers only based on the provided information\n",
    "2. Questions not related with the provided context must be ignoring by the chat bot\n",
    "3. The chat bot must be implemented using OpenAI API\n",
    "4. The chat bot implementation must be as much decoupled as possible, to favors future code reuse"
   ]
  },
  {
   "cell_type": "markdown",
   "metadata": {},
   "source": [
    "#### Setting And Importing The Environment Variables\n",
    "\n",
    "Open and edit the existing `.env` file, then add:\n",
    "\n",
    "```\n",
    "API_KEY=\"MY_API_KEY\"\n",
    "API_URL=\"https://api.groq.com/openai/v1\"\n",
    "MODEL=\"mixtral-8x7b-32768\"\n",
    "```\n",
    "\n",
    "Import the environment variables:"
   ]
  },
  {
   "cell_type": "code",
   "execution_count": null,
   "metadata": {},
   "outputs": [],
   "source": [
    "import os\n",
    "\n",
    "from dotenv import load_dotenv\n",
    "\n",
    "load_dotenv()"
   ]
  },
  {
   "cell_type": "markdown",
   "metadata": {},
   "source": [
    "Debugging:"
   ]
  },
  {
   "cell_type": "code",
   "execution_count": null,
   "metadata": {},
   "outputs": [],
   "source": [
    "print(os.getenv('API_URL'))\n",
    "print(os.getenv('MODEL'))"
   ]
  },
  {
   "cell_type": "markdown",
   "metadata": {},
   "source": [
    "#### Extracting Information From Provided Documentation"
   ]
  },
  {
   "cell_type": "code",
   "execution_count": null,
   "metadata": {},
   "outputs": [],
   "source": [
    "%pip install pyMuPDF==1.25.3"
   ]
  },
  {
   "cell_type": "code",
   "execution_count": null,
   "metadata": {},
   "outputs": [],
   "source": [
    "import pymupdf\n",
    "\n",
    "def extract_text_from_pdf(pdf_file: str) -> str:\n",
    "    try:\n",
    "        document = pymupdf.open(pdf_file)\n",
    "    except Exception as e:\n",
    "        return f\"Error opening PDF, {e}\"\n",
    "\n",
    "    text = \"\"\n",
    "\n",
    "    for page in document:\n",
    "        text = page.get_text()\n",
    "\n",
    "    return text"
   ]
  },
  {
   "cell_type": "markdown",
   "metadata": {},
   "source": [
    "#### Creating The OpenAI Client"
   ]
  },
  {
   "cell_type": "code",
   "execution_count": null,
   "metadata": {},
   "outputs": [],
   "source": [
    "%pip install openai==1.63.2"
   ]
  },
  {
   "cell_type": "code",
   "execution_count": null,
   "metadata": {},
   "outputs": [],
   "source": [
    "from openai import OpenAI\n",
    "\n",
    "def get_client() -> OpenAI:\n",
    "    return OpenAI(\n",
    "        api_key=os.getenv('API_KEY'),\n",
    "        base_url=os.getenv('API_URL')\n",
    "    )"
   ]
  },
  {
   "cell_type": "markdown",
   "metadata": {},
   "source": [
    "#### Creating A Chat Completion"
   ]
  },
  {
   "cell_type": "code",
   "execution_count": null,
   "metadata": {},
   "outputs": [],
   "source": [
    "def chat(client: OpenAI, prompt_template: str, question: str) -> str:\n",
    "    chat_completion = client.chat.completions.create(\n",
    "        messages=[\n",
    "            {\n",
    "                \"role\": \"system\",\n",
    "                \"content\": prompt_template,\n",
    "            },\n",
    "            {\n",
    "                \"role\": \"user\",\n",
    "                \"content\": question,\n",
    "            },\n",
    "        ],\n",
    "        model=os.getenv('MODEL'),\n",
    "        temperature=0,\n",
    "    )\n",
    "\n",
    "    return chat_completion.choices[0].message.content"
   ]
  },
  {
   "cell_type": "markdown",
   "metadata": {},
   "source": [
    "#### Putting Everything Together"
   ]
  },
  {
   "cell_type": "code",
   "execution_count": null,
   "metadata": {},
   "outputs": [],
   "source": [
    "text = extract_text_from_pdf(\"./assets/Information.pdf\")\n",
    "\n",
    "prompt_template = text + \"\"\"\n",
    "You are the hotel manager of Landon Hotel, named \"Mr. Landon\".\n",
    "Your expertise is exclusively in providing information and advice about anything related to Landon Hotel.\n",
    "This includes any general Landon Hotel related queries.\n",
    "You do not provide information outside of this scope.\n",
    "If a question is not about Landon Hotel, respond with, \"I can't assist you with that, sorry!\"\n",
    "\"\"\"\n",
    "\n",
    "client = get_client()"
   ]
  },
  {
   "cell_type": "markdown",
   "metadata": {},
   "source": [
    "Debugging:"
   ]
  },
  {
   "cell_type": "code",
   "execution_count": null,
   "metadata": {},
   "outputs": [],
   "source": [
    "print(prompt_template)"
   ]
  },
  {
   "cell_type": "markdown",
   "metadata": {},
   "source": [
    "#### Prompting The Chat Bot"
   ]
  },
  {
   "cell_type": "code",
   "execution_count": null,
   "metadata": {},
   "outputs": [],
   "source": [
    "print(chat(client, prompt_template, \"Who is Arthur Landon?\"))"
   ]
  },
  {
   "cell_type": "code",
   "execution_count": null,
   "metadata": {},
   "outputs": [],
   "source": [
    "print(chat(client, prompt_template, \"Who are you?\"))"
   ]
  },
  {
   "cell_type": "code",
   "execution_count": null,
   "metadata": {},
   "outputs": [],
   "source": [
    "print(chat(client, prompt_template, \"What is 42?\"))"
   ]
  },
  {
   "cell_type": "markdown",
   "metadata": {},
   "source": [
    "## [References](#contents)\n",
    "\n",
    "* [](https://jupyter.org/install)\n",
    "* [](https://www.ibm.com/think/topics/responsible-ai)\n",
    "* [](https://www.microsoft.com/en-us/trust-center/compliance/eu-ai-act)\n",
    "* [](https://aifor.dev/02_understanding_large_language_models/02_00_understanding_large_language_models_introduction.html)\n",
    "* [](https://murali-kashaboina.medium.com/a-handy-compendium-of-common-terms-used-in-the-context-of-llms-part-1-d9f8730a092a)\n",
    "* [](https://templespark.com/understanding-naming-conventions-of-llm-files-a-comprehensive-guide)\n",
    "* [](https://www.ibm.com/think/topics/prompt-injection)\n",
    "* [](https://arstechnica.com/science/2025/01/its-remarkably-easy-to-inject-new-medical-misinformation-into-llms)\n",
    "* [](https://github.com/openai/openai-python)\n",
    "* [](https://platform.openai.com/docs/api-reference/debugging-requests)\n",
    "* [](https://console.groq.com/docs/quickstart)\n",
    "* [](https://learn.microsoft.com/en-us/semantic-kernel/get-started/quick-start-guide?pivots=programming-language-python)\n",
    "* [](https://python.langchain.com/docs/tutorials)"
   ]
  }
 ],
 "metadata": {
  "kernelspec": {
   "display_name": "Chat Bot",
   "language": "python",
   "name": "python3"
  },
  "language_info": {
   "codemirror_mode": {
    "name": "ipython",
    "version": 3
   },
   "file_extension": ".py",
   "mimetype": "text/x-python",
   "name": "python",
   "nbconvert_exporter": "python",
   "pygments_lexer": "ipython3",
   "version": "3.13.2"
  }
 },
 "nbformat": 4,
 "nbformat_minor": 2
}
